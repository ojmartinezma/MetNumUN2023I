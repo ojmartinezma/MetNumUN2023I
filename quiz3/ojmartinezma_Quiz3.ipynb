{
  "nbformat": 4,
  "nbformat_minor": 0,
  "metadata": {
    "colab": {
      "provenance": [],
      "include_colab_link": true
    },
    "kernelspec": {
      "name": "python3",
      "display_name": "Python 3"
    }
  },
  "cells": [
    {
      "cell_type": "markdown",
      "metadata": {
        "id": "view-in-github",
        "colab_type": "text"
      },
      "source": [
        "<a href=\"https://colab.research.google.com/github/ojmartinezma/MetNumUN2023I/blob/main/quiz3/ojmartinezma_Quiz3.ipynb\" target=\"_parent\"><img src=\"https://colab.research.google.com/assets/colab-badge.svg\" alt=\"Open In Colab\"/></a>"
      ]
    },
    {
      "cell_type": "markdown",
      "metadata": {
        "id": "22zXjFMRkUkJ"
      },
      "source": [
        "This was created modifiying quizzes frrm the **[MLDS (Machine Learning and data Science)](https://ingenieria.bogota.unal.edu.co/uec/?p=10947)** Training Program from \"Unidad de Educación Continuada y Permanente\" of the \"Facultad de Ingeniería\" at UNAL \n",
        "\n",
        "<img src = \"https://i.ytimg.com/vi/S6xbNyvVyiY/maxresdefault.jpg\" alt = \"MLDS Header\" width = \"70%\">  </img>\n",
        "\n",
        "\n",
        "<a href=\"https://youtu.be/S6xbNyvVyiY\"><img src=\"https://ingenieria.bogota.unal.edu.co/uec/wp-content/uploads/2019/03/msedge_TiMVdqwZhD.png\" \n",
        "alt=\"MLDS video\" width = \"70%\"></a>\n"
      ]
    },
    {
      "cell_type": "markdown",
      "source": [
        "The MDLS Training Program has a **[free online Python course](https://ingenieria.bogota.unal.edu.co/uec/?p=14706)**.\n",
        "\n",
        "<img src = \"https://ingenieria.bogota.unal.edu.co/uec/wp-content/uploads/2021/11/mooc_python.png\" alt = \"Encabezado MLDS\" width = \"70%\">  </img>\n"
      ],
      "metadata": {
        "id": "MXlX3j44mbZF"
      }
    },
    {
      "cell_type": "markdown",
      "source": [
        "# **Quiz 2 - *Titanic* - Python Pandas**\n",
        "---\n",
        "This quiz will help you practice the skills coding in Python and using Numpy and Pandas.\n",
        "\n",
        "> **Note:** This aquiz will be graded on **UNCode** **[https://uncode.unal.edu.co/](https://uncode.unal.edu.co/)** ([doumentation](https://juezun.github.io/)). In each exercise is indicated where you should write your code. Complete the code, download the file submit it in **UNCode**."
      ],
      "metadata": {
        "id": "6R6g4Sdumhtc"
      }
    },
    {
      "cell_type": "code",
      "metadata": {
        "id": "0v4eme-o9suJ"
      },
      "source": [
        "# Importar pandas\n",
        "import pandas as pd"
      ],
      "execution_count": null,
      "outputs": []
    },
    {
      "cell_type": "code",
      "metadata": {
        "id": "GEfXnD9mjd2V",
        "colab": {
          "base_uri": "https://localhost:8080/"
        },
        "outputId": "56b0bfd9-e505-4dd8-d08c-17c17eb3ab22"
      },
      "source": [
        "#TEST_CELL\n",
        "!python --version\n",
        "print('Pandas', pd.__version__)"
      ],
      "execution_count": null,
      "outputs": [
        {
          "output_type": "stream",
          "name": "stdout",
          "text": [
            "Python 3.9.16\n",
            "Pandas 1.4.4\n"
          ]
        }
      ]
    },
    {
      "cell_type": "markdown",
      "metadata": {
        "id": "ROZNbg6fpLpu"
      },
      "source": [
        "Este material fue realizado con las siguientes versiones:\n",
        "\n",
        "- *Python* 3.6.9\n",
        "\n",
        "- *Pandas* 1.1.5"
      ]
    },
    {
      "cell_type": "markdown",
      "metadata": {
        "id": "adqf_QGVpsMi"
      },
      "source": [
        "## **0. Read data file**"
      ]
    },
    {
      "cell_type": "markdown",
      "source": [
        "In this execise you practice the skills acquired using *pandas* in the process of exploring and understanding data sets. We will use the **Titanic dataset**  available from  **Kaggle** [https://www.kaggle.com/c/titanic](https://www.kaggle.com/c/titanic).\n",
        "\n",
        "The Titanic data set features multiple variables from the tragedy:\n",
        "\n",
        "### Data Dictionary\n",
        "\n",
        "| Variable | Definition | Values |\n",
        "| --- | --- | --- |\n",
        "| survival | Survival | 0 = No, 1 = Yes |\n",
        "| pclass | Ticket class | 1 = 1st, 2 = 2nd, 3 = 3rd\n",
        "| sex | Sex | |\n",
        "| Age | Age in years | |\n",
        "| sibsp | # of siblings/spouse aboard Titanic | |\n",
        "| patch | # of parents / children aboard the Titanic | |\n",
        "| tickets | Ticket number | |\n",
        "| fare | Ticket cost | |\n",
        "| cabin | Cabin number | |\n",
        "| embarked | Port of embarkation | C=Cherbourg, Q=Queenstown, S=Southampton |\n",
        "\n",
        "\n",
        "> **IMPORTANT:**\n",
        "\n",
        "  - Please download the dataset file from the following link: **[titanic.csv](https://raw.githubusercontent.com/JuezUN/datasets/master/titanic.csv)** and on the link, right click and select the **\"Save As...\"** option.\\\n",
        "\n",
        "  - To Upload this file in the **Google Collaboratory** file system. To do this:\n",
        "    \n",
        "    1. Click where the **directory icon** appears on the left side of the window in *Google Collaboratory* \n",
        "    2. Move up \n",
        "    3. Open  **content**.\n",
        "    4. Then click on **⋮** next to  **content**.\n",
        "    5. ***Upload*** the **`titanic.csv`** file you previously downloaded and click **\"OK\"**."
      ],
      "metadata": {
        "id": "87dnc_iymyie"
      }
    },
    {
      "cell_type": "markdown",
      "source": [
        "![image.png](data:image/png;base64,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)"
      ],
      "metadata": {
        "id": "X4f_FBpFm6A8"
      }
    },
    {
      "cell_type": "code",
      "metadata": {
        "id": "Y9F6G_l5pKOZ",
        "colab": {
          "base_uri": "https://localhost:8080/",
          "height": 424
        },
        "outputId": "3bda8270-dee2-4580-8043-331e966b035a"
      },
      "source": [
        "# Read the the titanic csv file into the the titanic data frame\n",
        "titanic = pd.read_csv('titanic.csv')\n",
        "titanic"
      ],
      "execution_count": null,
      "outputs": [
        {
          "output_type": "execute_result",
          "data": {
            "text/plain": [
              "     PassengerId  Survived  Pclass  \\\n",
              "0              1         0       3   \n",
              "1              2         1       1   \n",
              "2              3         1       3   \n",
              "3              4         1       1   \n",
              "4              5         0       3   \n",
              "..           ...       ...     ...   \n",
              "886          887         0       2   \n",
              "887          888         1       1   \n",
              "888          889         0       3   \n",
              "889          890         1       1   \n",
              "890          891         0       3   \n",
              "\n",
              "                                                  Name     Sex   Age  SibSp  \\\n",
              "0                              Braund, Mr. Owen Harris    male  22.0      1   \n",
              "1    Cumings, Mrs. John Bradley (Florence Briggs Th...  female  38.0      1   \n",
              "2                               Heikkinen, Miss. Laina  female  26.0      0   \n",
              "3         Futrelle, Mrs. Jacques Heath (Lily May Peel)  female  35.0      1   \n",
              "4                             Allen, Mr. William Henry    male  35.0      0   \n",
              "..                                                 ...     ...   ...    ...   \n",
              "886                              Montvila, Rev. Juozas    male  27.0      0   \n",
              "887                       Graham, Miss. Margaret Edith  female  19.0      0   \n",
              "888           Johnston, Miss. Catherine Helen \"Carrie\"  female   NaN      1   \n",
              "889                              Behr, Mr. Karl Howell    male  26.0      0   \n",
              "890                                Dooley, Mr. Patrick    male  32.0      0   \n",
              "\n",
              "     Parch            Ticket     Fare Cabin Embarked  \n",
              "0        0         A/5 21171   7.2500   NaN        S  \n",
              "1        0          PC 17599  71.2833   C85        C  \n",
              "2        0  STON/O2. 3101282   7.9250   NaN        S  \n",
              "3        0            113803  53.1000  C123        S  \n",
              "4        0            373450   8.0500   NaN        S  \n",
              "..     ...               ...      ...   ...      ...  \n",
              "886      0            211536  13.0000   NaN        S  \n",
              "887      0            112053  30.0000   B42        S  \n",
              "888      2        W./C. 6607  23.4500   NaN        S  \n",
              "889      0            111369  30.0000  C148        C  \n",
              "890      0            370376   7.7500   NaN        Q  \n",
              "\n",
              "[891 rows x 12 columns]"
            ],
            "text/html": [
              "\n",
              "  <div id=\"df-35ad61e3-26eb-4bb4-9add-9f94075bfcd0\">\n",
              "    <div class=\"colab-df-container\">\n",
              "      <div>\n",
              "<style scoped>\n",
              "    .dataframe tbody tr th:only-of-type {\n",
              "        vertical-align: middle;\n",
              "    }\n",
              "\n",
              "    .dataframe tbody tr th {\n",
              "        vertical-align: top;\n",
              "    }\n",
              "\n",
              "    .dataframe thead th {\n",
              "        text-align: right;\n",
              "    }\n",
              "</style>\n",
              "<table border=\"1\" class=\"dataframe\">\n",
              "  <thead>\n",
              "    <tr style=\"text-align: right;\">\n",
              "      <th></th>\n",
              "      <th>PassengerId</th>\n",
              "      <th>Survived</th>\n",
              "      <th>Pclass</th>\n",
              "      <th>Name</th>\n",
              "      <th>Sex</th>\n",
              "      <th>Age</th>\n",
              "      <th>SibSp</th>\n",
              "      <th>Parch</th>\n",
              "      <th>Ticket</th>\n",
              "      <th>Fare</th>\n",
              "      <th>Cabin</th>\n",
              "      <th>Embarked</th>\n",
              "    </tr>\n",
              "  </thead>\n",
              "  <tbody>\n",
              "    <tr>\n",
              "      <th>0</th>\n",
              "      <td>1</td>\n",
              "      <td>0</td>\n",
              "      <td>3</td>\n",
              "      <td>Braund, Mr. Owen Harris</td>\n",
              "      <td>male</td>\n",
              "      <td>22.0</td>\n",
              "      <td>1</td>\n",
              "      <td>0</td>\n",
              "      <td>A/5 21171</td>\n",
              "      <td>7.2500</td>\n",
              "      <td>NaN</td>\n",
              "      <td>S</td>\n",
              "    </tr>\n",
              "    <tr>\n",
              "      <th>1</th>\n",
              "      <td>2</td>\n",
              "      <td>1</td>\n",
              "      <td>1</td>\n",
              "      <td>Cumings, Mrs. John Bradley (Florence Briggs Th...</td>\n",
              "      <td>female</td>\n",
              "      <td>38.0</td>\n",
              "      <td>1</td>\n",
              "      <td>0</td>\n",
              "      <td>PC 17599</td>\n",
              "      <td>71.2833</td>\n",
              "      <td>C85</td>\n",
              "      <td>C</td>\n",
              "    </tr>\n",
              "    <tr>\n",
              "      <th>2</th>\n",
              "      <td>3</td>\n",
              "      <td>1</td>\n",
              "      <td>3</td>\n",
              "      <td>Heikkinen, Miss. Laina</td>\n",
              "      <td>female</td>\n",
              "      <td>26.0</td>\n",
              "      <td>0</td>\n",
              "      <td>0</td>\n",
              "      <td>STON/O2. 3101282</td>\n",
              "      <td>7.9250</td>\n",
              "      <td>NaN</td>\n",
              "      <td>S</td>\n",
              "    </tr>\n",
              "    <tr>\n",
              "      <th>3</th>\n",
              "      <td>4</td>\n",
              "      <td>1</td>\n",
              "      <td>1</td>\n",
              "      <td>Futrelle, Mrs. Jacques Heath (Lily May Peel)</td>\n",
              "      <td>female</td>\n",
              "      <td>35.0</td>\n",
              "      <td>1</td>\n",
              "      <td>0</td>\n",
              "      <td>113803</td>\n",
              "      <td>53.1000</td>\n",
              "      <td>C123</td>\n",
              "      <td>S</td>\n",
              "    </tr>\n",
              "    <tr>\n",
              "      <th>4</th>\n",
              "      <td>5</td>\n",
              "      <td>0</td>\n",
              "      <td>3</td>\n",
              "      <td>Allen, Mr. William Henry</td>\n",
              "      <td>male</td>\n",
              "      <td>35.0</td>\n",
              "      <td>0</td>\n",
              "      <td>0</td>\n",
              "      <td>373450</td>\n",
              "      <td>8.0500</td>\n",
              "      <td>NaN</td>\n",
              "      <td>S</td>\n",
              "    </tr>\n",
              "    <tr>\n",
              "      <th>...</th>\n",
              "      <td>...</td>\n",
              "      <td>...</td>\n",
              "      <td>...</td>\n",
              "      <td>...</td>\n",
              "      <td>...</td>\n",
              "      <td>...</td>\n",
              "      <td>...</td>\n",
              "      <td>...</td>\n",
              "      <td>...</td>\n",
              "      <td>...</td>\n",
              "      <td>...</td>\n",
              "      <td>...</td>\n",
              "    </tr>\n",
              "    <tr>\n",
              "      <th>886</th>\n",
              "      <td>887</td>\n",
              "      <td>0</td>\n",
              "      <td>2</td>\n",
              "      <td>Montvila, Rev. Juozas</td>\n",
              "      <td>male</td>\n",
              "      <td>27.0</td>\n",
              "      <td>0</td>\n",
              "      <td>0</td>\n",
              "      <td>211536</td>\n",
              "      <td>13.0000</td>\n",
              "      <td>NaN</td>\n",
              "      <td>S</td>\n",
              "    </tr>\n",
              "    <tr>\n",
              "      <th>887</th>\n",
              "      <td>888</td>\n",
              "      <td>1</td>\n",
              "      <td>1</td>\n",
              "      <td>Graham, Miss. Margaret Edith</td>\n",
              "      <td>female</td>\n",
              "      <td>19.0</td>\n",
              "      <td>0</td>\n",
              "      <td>0</td>\n",
              "      <td>112053</td>\n",
              "      <td>30.0000</td>\n",
              "      <td>B42</td>\n",
              "      <td>S</td>\n",
              "    </tr>\n",
              "    <tr>\n",
              "      <th>888</th>\n",
              "      <td>889</td>\n",
              "      <td>0</td>\n",
              "      <td>3</td>\n",
              "      <td>Johnston, Miss. Catherine Helen \"Carrie\"</td>\n",
              "      <td>female</td>\n",
              "      <td>NaN</td>\n",
              "      <td>1</td>\n",
              "      <td>2</td>\n",
              "      <td>W./C. 6607</td>\n",
              "      <td>23.4500</td>\n",
              "      <td>NaN</td>\n",
              "      <td>S</td>\n",
              "    </tr>\n",
              "    <tr>\n",
              "      <th>889</th>\n",
              "      <td>890</td>\n",
              "      <td>1</td>\n",
              "      <td>1</td>\n",
              "      <td>Behr, Mr. Karl Howell</td>\n",
              "      <td>male</td>\n",
              "      <td>26.0</td>\n",
              "      <td>0</td>\n",
              "      <td>0</td>\n",
              "      <td>111369</td>\n",
              "      <td>30.0000</td>\n",
              "      <td>C148</td>\n",
              "      <td>C</td>\n",
              "    </tr>\n",
              "    <tr>\n",
              "      <th>890</th>\n",
              "      <td>891</td>\n",
              "      <td>0</td>\n",
              "      <td>3</td>\n",
              "      <td>Dooley, Mr. Patrick</td>\n",
              "      <td>male</td>\n",
              "      <td>32.0</td>\n",
              "      <td>0</td>\n",
              "      <td>0</td>\n",
              "      <td>370376</td>\n",
              "      <td>7.7500</td>\n",
              "      <td>NaN</td>\n",
              "      <td>Q</td>\n",
              "    </tr>\n",
              "  </tbody>\n",
              "</table>\n",
              "<p>891 rows × 12 columns</p>\n",
              "</div>\n",
              "      <button class=\"colab-df-convert\" onclick=\"convertToInteractive('df-35ad61e3-26eb-4bb4-9add-9f94075bfcd0')\"\n",
              "              title=\"Convert this dataframe to an interactive table.\"\n",
              "              style=\"display:none;\">\n",
              "        \n",
              "  <svg xmlns=\"http://www.w3.org/2000/svg\" height=\"24px\"viewBox=\"0 0 24 24\"\n",
              "       width=\"24px\">\n",
              "    <path d=\"M0 0h24v24H0V0z\" fill=\"none\"/>\n",
              "    <path d=\"M18.56 5.44l.94 2.06.94-2.06 2.06-.94-2.06-.94-.94-2.06-.94 2.06-2.06.94zm-11 1L8.5 8.5l.94-2.06 2.06-.94-2.06-.94L8.5 2.5l-.94 2.06-2.06.94zm10 10l.94 2.06.94-2.06 2.06-.94-2.06-.94-.94-2.06-.94 2.06-2.06.94z\"/><path d=\"M17.41 7.96l-1.37-1.37c-.4-.4-.92-.59-1.43-.59-.52 0-1.04.2-1.43.59L10.3 9.45l-7.72 7.72c-.78.78-.78 2.05 0 2.83L4 21.41c.39.39.9.59 1.41.59.51 0 1.02-.2 1.41-.59l7.78-7.78 2.81-2.81c.8-.78.8-2.07 0-2.86zM5.41 20L4 18.59l7.72-7.72 1.47 1.35L5.41 20z\"/>\n",
              "  </svg>\n",
              "      </button>\n",
              "      \n",
              "  <style>\n",
              "    .colab-df-container {\n",
              "      display:flex;\n",
              "      flex-wrap:wrap;\n",
              "      gap: 12px;\n",
              "    }\n",
              "\n",
              "    .colab-df-convert {\n",
              "      background-color: #E8F0FE;\n",
              "      border: none;\n",
              "      border-radius: 50%;\n",
              "      cursor: pointer;\n",
              "      display: none;\n",
              "      fill: #1967D2;\n",
              "      height: 32px;\n",
              "      padding: 0 0 0 0;\n",
              "      width: 32px;\n",
              "    }\n",
              "\n",
              "    .colab-df-convert:hover {\n",
              "      background-color: #E2EBFA;\n",
              "      box-shadow: 0px 1px 2px rgba(60, 64, 67, 0.3), 0px 1px 3px 1px rgba(60, 64, 67, 0.15);\n",
              "      fill: #174EA6;\n",
              "    }\n",
              "\n",
              "    [theme=dark] .colab-df-convert {\n",
              "      background-color: #3B4455;\n",
              "      fill: #D2E3FC;\n",
              "    }\n",
              "\n",
              "    [theme=dark] .colab-df-convert:hover {\n",
              "      background-color: #434B5C;\n",
              "      box-shadow: 0px 1px 3px 1px rgba(0, 0, 0, 0.15);\n",
              "      filter: drop-shadow(0px 1px 2px rgba(0, 0, 0, 0.3));\n",
              "      fill: #FFFFFF;\n",
              "    }\n",
              "  </style>\n",
              "\n",
              "      <script>\n",
              "        const buttonEl =\n",
              "          document.querySelector('#df-35ad61e3-26eb-4bb4-9add-9f94075bfcd0 button.colab-df-convert');\n",
              "        buttonEl.style.display =\n",
              "          google.colab.kernel.accessAllowed ? 'block' : 'none';\n",
              "\n",
              "        async function convertToInteractive(key) {\n",
              "          const element = document.querySelector('#df-35ad61e3-26eb-4bb4-9add-9f94075bfcd0');\n",
              "          const dataTable =\n",
              "            await google.colab.kernel.invokeFunction('convertToInteractive',\n",
              "                                                     [key], {});\n",
              "          if (!dataTable) return;\n",
              "\n",
              "          const docLinkHtml = 'Like what you see? Visit the ' +\n",
              "            '<a target=\"_blank\" href=https://colab.research.google.com/notebooks/data_table.ipynb>data table notebook</a>'\n",
              "            + ' to learn more about interactive tables.';\n",
              "          element.innerHTML = '';\n",
              "          dataTable['output_type'] = 'display_data';\n",
              "          await google.colab.output.renderOutput(dataTable, element);\n",
              "          const docLink = document.createElement('div');\n",
              "          docLink.innerHTML = docLinkHtml;\n",
              "          element.appendChild(docLink);\n",
              "        }\n",
              "      </script>\n",
              "    </div>\n",
              "  </div>\n",
              "  "
            ]
          },
          "metadata": {},
          "execution_count": 4
        }
      ]
    },
    {
      "cell_type": "markdown",
      "source": [
        "## **1. Types of variables**\n",
        "\n",
        "---\n",
        "You will need to identify and explore the different types of variables (columns) in the dataset and store the requested answers in the requested variables at each point.\n",
        "\n",
        "Use the following cells to freely explore the dataset using pandas. Then record your answers to the questions below.\n",
        "\n",
        "Ej:"
      ],
      "metadata": {
        "id": "NrdqAoFOnMLs"
      }
    },
    {
      "cell_type": "code",
      "source": [
        "titanic.loc[:,\"Name\"]"
      ],
      "metadata": {
        "colab": {
          "base_uri": "https://localhost:8080/"
        },
        "id": "pYzWveBfoKEr",
        "outputId": "016a0c92-6277-4528-bfb5-7245dc472093"
      },
      "execution_count": null,
      "outputs": [
        {
          "output_type": "execute_result",
          "data": {
            "text/plain": [
              "0                                Braund, Mr. Owen Harris\n",
              "1      Cumings, Mrs. John Bradley (Florence Briggs Th...\n",
              "2                                 Heikkinen, Miss. Laina\n",
              "3           Futrelle, Mrs. Jacques Heath (Lily May Peel)\n",
              "4                               Allen, Mr. William Henry\n",
              "                             ...                        \n",
              "886                                Montvila, Rev. Juozas\n",
              "887                         Graham, Miss. Margaret Edith\n",
              "888             Johnston, Miss. Catherine Helen \"Carrie\"\n",
              "889                                Behr, Mr. Karl Howell\n",
              "890                                  Dooley, Mr. Patrick\n",
              "Name: Name, Length: 891, dtype: object"
            ]
          },
          "metadata": {},
          "execution_count": 5
        }
      ]
    },
    {
      "cell_type": "code",
      "metadata": {
        "id": "9K3e6F9_GF2J",
        "colab": {
          "base_uri": "https://localhost:8080/"
        },
        "outputId": "9ebaa546-4fe9-4644-8153-6a033b5a4748"
      },
      "source": [
        "titanic.loc[:,\"Age\"]"
      ],
      "execution_count": null,
      "outputs": [
        {
          "output_type": "execute_result",
          "data": {
            "text/plain": [
              "0      22.0\n",
              "1      38.0\n",
              "2      26.0\n",
              "3      35.0\n",
              "4      35.0\n",
              "       ... \n",
              "886    27.0\n",
              "887    19.0\n",
              "888     NaN\n",
              "889    26.0\n",
              "890    32.0\n",
              "Name: Age, Length: 891, dtype: float64"
            ]
          },
          "metadata": {},
          "execution_count": 6
        }
      ]
    },
    {
      "cell_type": "code",
      "metadata": {
        "id": "YYR3RJnMXprq",
        "colab": {
          "base_uri": "https://localhost:8080/"
        },
        "outputId": "a08f53fd-e17d-4d73-fb21-5b39412fef9b"
      },
      "source": [
        "titanic.loc[:,\"Ticket\"]"
      ],
      "execution_count": null,
      "outputs": [
        {
          "output_type": "execute_result",
          "data": {
            "text/plain": [
              "0             A/5 21171\n",
              "1              PC 17599\n",
              "2      STON/O2. 3101282\n",
              "3                113803\n",
              "4                373450\n",
              "             ...       \n",
              "886              211536\n",
              "887              112053\n",
              "888          W./C. 6607\n",
              "889              111369\n",
              "890              370376\n",
              "Name: Ticket, Length: 891, dtype: object"
            ]
          },
          "metadata": {},
          "execution_count": 7
        }
      ]
    },
    {
      "cell_type": "code",
      "metadata": {
        "id": "v2k1B-70XsCH",
        "colab": {
          "base_uri": "https://localhost:8080/"
        },
        "outputId": "1c7996da-e30d-436a-dc7f-2fcb8c4a9691"
      },
      "source": [
        "titanic.loc[:,\"Embarked\"]\n"
      ],
      "execution_count": null,
      "outputs": [
        {
          "output_type": "execute_result",
          "data": {
            "text/plain": [
              "0      S\n",
              "1      C\n",
              "2      S\n",
              "3      S\n",
              "4      S\n",
              "      ..\n",
              "886    S\n",
              "887    S\n",
              "888    S\n",
              "889    C\n",
              "890    Q\n",
              "Name: Embarked, Length: 891, dtype: object"
            ]
          },
          "metadata": {},
          "execution_count": 8
        }
      ]
    },
    {
      "cell_type": "markdown",
      "metadata": {
        "id": "ZVO_711up0Ox"
      },
      "source": [
        "### **1.1. Variables with missing values**\n",
        "---\n",
        "\n",
        "> **Which variables have missing values?**\n",
        "\n",
        "\n",
        "Fill the list **`variables_with_missing_values`** with the correct answer. The order of the names of the variables is not important.\n",
        "The answer must be a subset of the names of the variables of the dataset:\n",
        "\n",
        "**`['PassengerId', 'Survived', 'Pclass', \n",
        "       'Name', 'Sex', 'Age', 'SibSp',\n",
        "       'Parch', 'Ticket', 'Fare', \n",
        "       'Cabin', 'Embarked']`**\n"
      ]
    },
    {
      "cell_type": "markdown",
      "metadata": {
        "id": "BA-nbOmnPYl6"
      },
      "source": [
        "<details>    \n",
        "<summary>\n",
        "    <font size=\"3\" color=\"darkgreen\"><b>Hints</b></font>\n",
        "</summary>\n",
        "\n",
        "* In this exercise you can explore manually using functions like **`.describe`** or **`.info`** to identify variables with missing values but you have to use  **`.isnull().any()`** to do it in coding.\n",
        "\n"
      ]
    },
    {
      "cell_type": "code",
      "metadata": {
        "id": "MU2fXeFIqEwI",
        "colab": {
          "base_uri": "https://localhost:8080/"
        },
        "outputId": "5a3f3f10-9432-47c3-8e08-c78544ac0745"
      },
      "source": [
        "variables_with_missing_values = titanic.columns[titanic.isnull().any()].tolist()\n",
        "print(variables_with_missing_values)"
      ],
      "execution_count": null,
      "outputs": [
        {
          "output_type": "stream",
          "name": "stdout",
          "text": [
            "['Age', 'Cabin', 'Embarked']\n"
          ]
        }
      ]
    },
    {
      "cell_type": "markdown",
      "metadata": {
        "id": "DrorYabwtQRd"
      },
      "source": [
        "### **1.2. Categorical variables**\n",
        "---\n",
        "\n",
        "> **Which variables have categorical values?**\n",
        "\n",
        "Fill the list **`categorical_variables`** with the correct answer. \n",
        "\n",
        "The order of the names of the variables is not important. The answer must be a subset of the names of the variables of the dataset:\n",
        "\n",
        "**`['PassengerId', 'Survived', 'Pclass', 'Name', 'Sex', 'Age', 'SibSp',\n",
        "       'Parch', 'Ticket', 'Fare', 'Cabin', 'Embarked']`**\n"
      ]
    },
    {
      "cell_type": "markdown",
      "metadata": {
        "id": "h69i1acU-FMD"
      },
      "source": [
        "<details>    \n",
        "<summary>\n",
        "    <font size=\"3\" color=\"darkgreen\"><b>Hints</b></font>\n",
        "</summary>\n",
        "\n",
        "* In this exercise you can explore manually but you have to use functions like **`.select_dtypes(exclude=[\"number\"]))`** to do it in coding.\n",
        "\n"
      ]
    },
    {
      "cell_type": "code",
      "metadata": {
        "id": "9RIin_nisa4U",
        "colab": {
          "base_uri": "https://localhost:8080/"
        },
        "outputId": "4de1953e-d677-4dbb-ab2e-197ce8ff3e6b"
      },
      "source": [
        "categorical_variables = (titanic.select_dtypes(include=['object']).columns)\n",
        "\n",
        "print(categorical_variables)"
      ],
      "execution_count": null,
      "outputs": [
        {
          "output_type": "stream",
          "name": "stdout",
          "text": [
            "Index(['Name', 'Sex', 'Ticket', 'Cabin', 'Embarked'], dtype='object')\n"
          ]
        }
      ]
    },
    {
      "cell_type": "markdown",
      "metadata": {
        "id": "5zBGMQlpsTcF"
      },
      "source": [
        "### **1.3. Boarding counts**\n",
        "---\n",
        "\n",
        "Fill the list embarcaron with the correct answer. The order of the output is not important. The answer must have 3 numerical values corresponding to the number of people who boarded in\n",
        "\n",
        "\n",
        "> **How many passengers boarded in the ports?**\n",
        "\n",
        "Fill the list **`boarding_counts`** with the correct answer. The order of the output is not important. \n",
        "\n",
        "The answer must have 3 numerical values corresponding to the number of people who boarded in:\n",
        "\n",
        "* *Southampton* (S)\n",
        "*  *Cherbourg* (C)\n",
        "* *Queenstown* (Q)\n"
      ]
    },
    {
      "cell_type": "markdown",
      "metadata": {
        "id": "H8tNbv3L-_Gm"
      },
      "source": [
        "<details>    \n",
        "<summary>\n",
        "    <font size=\"3\" color=\"darkgreen\"><b>Hints</b></font>\n",
        "</summary>\n",
        "\n",
        "*  In this exercise you can explore manuallybut you have use a *pandas*  function that performs counts of the categorical data stored in a variable.\n",
        "\n",
        "* Remember that the column **'Embarked'** stores the data about the port of embarkation of the passengers."
      ]
    },
    {
      "cell_type": "code",
      "metadata": {
        "id": "Xss4wH1dvVmT",
        "colab": {
          "base_uri": "https://localhost:8080/"
        },
        "outputId": "5fd31496-d9ed-4786-ba2e-1b08b93097d5"
      },
      "source": [
        "boarding_counts = titanic['Embarked'].value_counts()\n",
        "print(boarding_counts)"
      ],
      "execution_count": null,
      "outputs": [
        {
          "output_type": "stream",
          "name": "stdout",
          "text": [
            "S    644\n",
            "C    168\n",
            "Q     77\n",
            "Name: Embarked, dtype: int64\n"
          ]
        }
      ]
    },
    {
      "cell_type": "markdown",
      "metadata": {
        "id": "G-hKW1xVvLa0"
      },
      "source": [
        "## **2.  Survival**\n",
        "---\n",
        "\n",
        "The dataset *Titanic* has the variable Survived **`Survived`**.  This indicates who survived the tragedy, representing the survivors with a value equal to $1$ and the victims with a value of$0$.\n",
        "\n",
        "We are interested in knowing which variables most influenced a person's survival.\n",
        "\n",
        "* For each numerical variable find the mean value of those who survived.\n",
        "\n",
        "* For the categorical variable **`Sex`**, find the values of the proportion of survivors for women (*female*) and men  (*male*). "
      ]
    },
    {
      "cell_type": "markdown",
      "metadata": {
        "id": "DY13nlRdTswQ"
      },
      "source": [
        "### **2.1. Survival in numeric variables**\n",
        "--- \n",
        "\n",
        "Find the mean value of all numerical variables for those who survived.\n",
        "\n",
        "Although it is possible to obtain the result in a single line of code, it is recommended to first calculate the averages of the numerical variables for both groups of passengers: those who survived and those who did not, and then select the averages of those who survived. Therefore, this exercise is divided into two parts.\n"
      ]
    },
    {
      "cell_type": "markdown",
      "metadata": {
        "id": "ps8lBjtk_dZ9"
      },
      "source": [
        "<details>    \n",
        "<summary>\n",
        "    <font size=\"3\" color=\"darkgreen\"><b>Hints</b></font>\n",
        "</summary>\n",
        "\n",
        "* Remember that you can form groups from variables or conditions with the use of the function **`groupby`** and then perform aggregation operations such as the average **`mean`** or the sum **`sum`**.\n",
        "* For this exercise you should consider variables with numerical values, even if they are interpreted as categorical variables. Delegate this decision to *pandas* and its functions that only operate on numeric values."
      ]
    },
    {
      "cell_type": "markdown",
      "source": [
        "First, find the averages of the numerical variables for both groups of passengers: survivors and non-survivors.\n",
        "> **Note**: Keep in mind that the requested data type is a ***Dataframe*** object called **`averages_by_group`**."
      ],
      "metadata": {
        "id": "WHcqmzV_GQbL"
      }
    },
    {
      "cell_type": "code",
      "metadata": {
        "id": "WqLlyd0DVUVi"
      },
      "source": [
        "\n",
        "averages_by_group = pd.DataFrame(titanic.groupby('Survived').mean()) "
      ],
      "execution_count": null,
      "outputs": []
    },
    {
      "cell_type": "code",
      "metadata": {
        "id": "Tq8Sg92OBvCr",
        "colab": {
          "base_uri": "https://localhost:8080/",
          "height": 143
        },
        "outputId": "5dddf3fe-c4c6-44ee-d80a-d8df038201e2"
      },
      "source": [
        "#TEST_CELL\n",
        "averages_by_group > 10"
      ],
      "execution_count": null,
      "outputs": [
        {
          "output_type": "execute_result",
          "data": {
            "text/plain": [
              "          PassengerId  Pclass   Age  SibSp  Parch  Fare\n",
              "Survived                                               \n",
              "0                True   False  True  False  False  True\n",
              "1                True   False  True  False  False  True"
            ],
            "text/html": [
              "\n",
              "  <div id=\"df-36ecc83c-af8d-438e-ab55-837c81cc6348\">\n",
              "    <div class=\"colab-df-container\">\n",
              "      <div>\n",
              "<style scoped>\n",
              "    .dataframe tbody tr th:only-of-type {\n",
              "        vertical-align: middle;\n",
              "    }\n",
              "\n",
              "    .dataframe tbody tr th {\n",
              "        vertical-align: top;\n",
              "    }\n",
              "\n",
              "    .dataframe thead th {\n",
              "        text-align: right;\n",
              "    }\n",
              "</style>\n",
              "<table border=\"1\" class=\"dataframe\">\n",
              "  <thead>\n",
              "    <tr style=\"text-align: right;\">\n",
              "      <th></th>\n",
              "      <th>PassengerId</th>\n",
              "      <th>Pclass</th>\n",
              "      <th>Age</th>\n",
              "      <th>SibSp</th>\n",
              "      <th>Parch</th>\n",
              "      <th>Fare</th>\n",
              "    </tr>\n",
              "    <tr>\n",
              "      <th>Survived</th>\n",
              "      <th></th>\n",
              "      <th></th>\n",
              "      <th></th>\n",
              "      <th></th>\n",
              "      <th></th>\n",
              "      <th></th>\n",
              "    </tr>\n",
              "  </thead>\n",
              "  <tbody>\n",
              "    <tr>\n",
              "      <th>0</th>\n",
              "      <td>True</td>\n",
              "      <td>False</td>\n",
              "      <td>True</td>\n",
              "      <td>False</td>\n",
              "      <td>False</td>\n",
              "      <td>True</td>\n",
              "    </tr>\n",
              "    <tr>\n",
              "      <th>1</th>\n",
              "      <td>True</td>\n",
              "      <td>False</td>\n",
              "      <td>True</td>\n",
              "      <td>False</td>\n",
              "      <td>False</td>\n",
              "      <td>True</td>\n",
              "    </tr>\n",
              "  </tbody>\n",
              "</table>\n",
              "</div>\n",
              "      <button class=\"colab-df-convert\" onclick=\"convertToInteractive('df-36ecc83c-af8d-438e-ab55-837c81cc6348')\"\n",
              "              title=\"Convert this dataframe to an interactive table.\"\n",
              "              style=\"display:none;\">\n",
              "        \n",
              "  <svg xmlns=\"http://www.w3.org/2000/svg\" height=\"24px\"viewBox=\"0 0 24 24\"\n",
              "       width=\"24px\">\n",
              "    <path d=\"M0 0h24v24H0V0z\" fill=\"none\"/>\n",
              "    <path d=\"M18.56 5.44l.94 2.06.94-2.06 2.06-.94-2.06-.94-.94-2.06-.94 2.06-2.06.94zm-11 1L8.5 8.5l.94-2.06 2.06-.94-2.06-.94L8.5 2.5l-.94 2.06-2.06.94zm10 10l.94 2.06.94-2.06 2.06-.94-2.06-.94-.94-2.06-.94 2.06-2.06.94z\"/><path d=\"M17.41 7.96l-1.37-1.37c-.4-.4-.92-.59-1.43-.59-.52 0-1.04.2-1.43.59L10.3 9.45l-7.72 7.72c-.78.78-.78 2.05 0 2.83L4 21.41c.39.39.9.59 1.41.59.51 0 1.02-.2 1.41-.59l7.78-7.78 2.81-2.81c.8-.78.8-2.07 0-2.86zM5.41 20L4 18.59l7.72-7.72 1.47 1.35L5.41 20z\"/>\n",
              "  </svg>\n",
              "      </button>\n",
              "      \n",
              "  <style>\n",
              "    .colab-df-container {\n",
              "      display:flex;\n",
              "      flex-wrap:wrap;\n",
              "      gap: 12px;\n",
              "    }\n",
              "\n",
              "    .colab-df-convert {\n",
              "      background-color: #E8F0FE;\n",
              "      border: none;\n",
              "      border-radius: 50%;\n",
              "      cursor: pointer;\n",
              "      display: none;\n",
              "      fill: #1967D2;\n",
              "      height: 32px;\n",
              "      padding: 0 0 0 0;\n",
              "      width: 32px;\n",
              "    }\n",
              "\n",
              "    .colab-df-convert:hover {\n",
              "      background-color: #E2EBFA;\n",
              "      box-shadow: 0px 1px 2px rgba(60, 64, 67, 0.3), 0px 1px 3px 1px rgba(60, 64, 67, 0.15);\n",
              "      fill: #174EA6;\n",
              "    }\n",
              "\n",
              "    [theme=dark] .colab-df-convert {\n",
              "      background-color: #3B4455;\n",
              "      fill: #D2E3FC;\n",
              "    }\n",
              "\n",
              "    [theme=dark] .colab-df-convert:hover {\n",
              "      background-color: #434B5C;\n",
              "      box-shadow: 0px 1px 3px 1px rgba(0, 0, 0, 0.15);\n",
              "      filter: drop-shadow(0px 1px 2px rgba(0, 0, 0, 0.3));\n",
              "      fill: #FFFFFF;\n",
              "    }\n",
              "  </style>\n",
              "\n",
              "      <script>\n",
              "        const buttonEl =\n",
              "          document.querySelector('#df-36ecc83c-af8d-438e-ab55-837c81cc6348 button.colab-df-convert');\n",
              "        buttonEl.style.display =\n",
              "          google.colab.kernel.accessAllowed ? 'block' : 'none';\n",
              "\n",
              "        async function convertToInteractive(key) {\n",
              "          const element = document.querySelector('#df-36ecc83c-af8d-438e-ab55-837c81cc6348');\n",
              "          const dataTable =\n",
              "            await google.colab.kernel.invokeFunction('convertToInteractive',\n",
              "                                                     [key], {});\n",
              "          if (!dataTable) return;\n",
              "\n",
              "          const docLinkHtml = 'Like what you see? Visit the ' +\n",
              "            '<a target=\"_blank\" href=https://colab.research.google.com/notebooks/data_table.ipynb>data table notebook</a>'\n",
              "            + ' to learn more about interactive tables.';\n",
              "          element.innerHTML = '';\n",
              "          dataTable['output_type'] = 'display_data';\n",
              "          await google.colab.output.renderOutput(dataTable, element);\n",
              "          const docLink = document.createElement('div');\n",
              "          docLink.innerHTML = docLinkHtml;\n",
              "          element.appendChild(docLink);\n",
              "        }\n",
              "      </script>\n",
              "    </div>\n",
              "  </div>\n",
              "  "
            ]
          },
          "metadata": {},
          "execution_count": 13
        }
      ]
    },
    {
      "cell_type": "markdown",
      "metadata": {
        "id": "7E2q-R3WBTzH"
      },
      "source": [
        "**Expected output:**\n",
        "\n",
        "<table border=\"1\" class=\"dataframe\">\n",
        "  <thead>\n",
        "    <tr style=\"text-align: right;\">\n",
        "      <th></th>\n",
        "      <th>PassengerId</th>\n",
        "      <th>Pclass</th>\n",
        "      <th>Age</th>\n",
        "      <th>SibSp</th>\n",
        "      <th>Parch</th>\n",
        "      <th>Fare</th>\n",
        "    </tr>\n",
        "    <tr>\n",
        "      <th>Survived</th>\n",
        "      <th></th>\n",
        "      <th></th>\n",
        "      <th></th>\n",
        "      <th></th>\n",
        "      <th></th>\n",
        "      <th></th>\n",
        "    </tr>\n",
        "  </thead>\n",
        "  <tbody>\n",
        "    <tr>\n",
        "      <th>0</th>\n",
        "      <td>True</td>\n",
        "      <td>False</td>\n",
        "      <td>True</td>\n",
        "      <td>False</td>\n",
        "      <td>False</td>\n",
        "      <td>True</td>\n",
        "    </tr>\n",
        "    <tr>\n",
        "      <th>1</th>\n",
        "      <td>True</td>\n",
        "      <td>False</td>\n",
        "      <td>True</td>\n",
        "      <td>False</td>\n",
        "      <td>False</td>\n",
        "      <td>True</td>\n",
        "    </tr>\n",
        "  </tbody>\n",
        "</table>"
      ]
    },
    {
      "cell_type": "markdown",
      "source": [
        "Now you must select the averages of the group that survived. For example, for those who survived the average age (variable **`Age`**) is approximately **`28.343690`** years.\n",
        "\n",
        "When interpreting the results you can ignore the variable **`PassengerId`** which, although it is a numeric value, is used as an identifier. Instead, it might be interesting to compare the differences in fares (**`Fare`**) between both groups.\n",
        "\n",
        "Leave the obtained averages per variable in a *Pandas* *Series* object called **`numeric_survival`**.\n",
        "\n",
        "\n",
        "> **Note:** Keep in mind that the data type being requested is a ***Series*** object."
      ],
      "metadata": {
        "id": "gqmhrNTfHA67"
      }
    },
    {
      "cell_type": "markdown",
      "source": [],
      "metadata": {
        "id": "I09gmaKXsErf"
      }
    },
    {
      "cell_type": "code",
      "metadata": {
        "id": "YjDyw0B29w-h",
        "colab": {
          "base_uri": "https://localhost:8080/"
        },
        "outputId": "822b35ee-117d-42f7-ad08-f77a6a7fef75"
      },
      "source": [
        "\n",
        "numeric_survival = titanic.loc[titanic['Survived'] == 1].drop('Survived', axis=1).mean()\n"
      ],
      "execution_count": null,
      "outputs": [
        {
          "output_type": "stream",
          "name": "stderr",
          "text": [
            "<ipython-input-14-004cc6e609ce>:1: FutureWarning: Dropping of nuisance columns in DataFrame reductions (with 'numeric_only=None') is deprecated; in a future version this will raise TypeError.  Select only valid columns before calling the reduction.\n",
            "  numeric_survival = titanic.loc[titanic['Survived'] == 1].drop('Survived', axis=1).mean()\n"
          ]
        }
      ]
    },
    {
      "cell_type": "code",
      "metadata": {
        "id": "hCI6MzoKB1Ny",
        "colab": {
          "base_uri": "https://localhost:8080/"
        },
        "outputId": "c87682df-431b-4ad6-dca5-2fe3c71ed586"
      },
      "source": [
        "\n",
        "numeric_survival.astype(int)"
      ],
      "execution_count": null,
      "outputs": [
        {
          "output_type": "execute_result",
          "data": {
            "text/plain": [
              "PassengerId    444\n",
              "Pclass           1\n",
              "Age             28\n",
              "SibSp            0\n",
              "Parch            0\n",
              "Fare            48\n",
              "dtype: int64"
            ]
          },
          "metadata": {},
          "execution_count": 15
        }
      ]
    },
    {
      "cell_type": "markdown",
      "metadata": {
        "id": "8gJsxr25r0PZ"
      },
      "source": [
        "**Expected output:**\n",
        "```python\n",
        "PassengerId    444\n",
        "Pclass           1\n",
        "Age             28\n",
        "SibSp            0\n",
        "Parch            0\n",
        "Fare            48\n",
        "Name: 1, dtype: int64\n",
        "```"
      ]
    },
    {
      "cell_type": "markdown",
      "metadata": {
        "id": "ELA5tRjiUC8x"
      },
      "source": [
        "### **2.2. Survival in categorical variables**\n",
        "---\n",
        "\n",
        "Construct a *pandas* ***DataFrame*** object called **`survival_sex`** that contains the average survival in each group from the variable **`Sex`**. You must find the values of the proportions of survivors for women and men separately. For example, if there were $3$ surviving females out of a total of $4$ females, and $2$ surviving males out of a total of $4$ males; the corresponding proportions would be: **`female: 0.75`** and **`male: 0.5`**.\n",
        "\n",
        "You can use the following cell to find the corresponding values and put them into the ***DataFrame*** **`survival_sex`**.\n",
        "\n",
        "> **Note:** Keep in mind that the type of data requested is a ***DataFrame***."
      ]
    },
    {
      "cell_type": "markdown",
      "metadata": {
        "id": "-nfnlYZYCjHa"
      },
      "source": [
        "<details>    \n",
        "<summary>\n",
        "    <font size=\"3\" color=\"darkgreen\"><b>Hints</b></font>\n",
        "</summary>\n",
        "\n",
        "* Remember that you can form groups from variables or conditions with the use of the function **`groupby`** and then perform aggregation operations such as the average **`mean`** or the sum **`sum`* *.\n",
        "* The proportion of a variable of binary values ($0$ or $1$) can be obtained from the average, assuming the values in $1$ as the instances that are part of the proportion, and those that are in $0$ those that are not."
      ]
    },
    {
      "cell_type": "code",
      "metadata": {
        "id": "ROIT4mIEdEG6"
      },
      "source": [
        "\n",
        "\n",
        "grouped = titanic.groupby('Sex')['Survived'].mean()\n",
        "survival_sex = pd.DataFrame(grouped, columns=['Survived'])\n"
      ],
      "execution_count": null,
      "outputs": []
    },
    {
      "cell_type": "code",
      "metadata": {
        "id": "c66qkiYtjVB7",
        "colab": {
          "base_uri": "https://localhost:8080/",
          "height": 143
        },
        "outputId": "290f0473-f37a-4b21-cee5-4332d7ede704"
      },
      "source": [
        "#TEST_CELL\n",
        "(survival_sex * 100).astype(int)"
      ],
      "execution_count": null,
      "outputs": [
        {
          "output_type": "execute_result",
          "data": {
            "text/plain": [
              "        Survived\n",
              "Sex             \n",
              "female        74\n",
              "male          18"
            ],
            "text/html": [
              "\n",
              "  <div id=\"df-148cb195-5d9c-4181-906d-fc6d45f71a55\">\n",
              "    <div class=\"colab-df-container\">\n",
              "      <div>\n",
              "<style scoped>\n",
              "    .dataframe tbody tr th:only-of-type {\n",
              "        vertical-align: middle;\n",
              "    }\n",
              "\n",
              "    .dataframe tbody tr th {\n",
              "        vertical-align: top;\n",
              "    }\n",
              "\n",
              "    .dataframe thead th {\n",
              "        text-align: right;\n",
              "    }\n",
              "</style>\n",
              "<table border=\"1\" class=\"dataframe\">\n",
              "  <thead>\n",
              "    <tr style=\"text-align: right;\">\n",
              "      <th></th>\n",
              "      <th>Survived</th>\n",
              "    </tr>\n",
              "    <tr>\n",
              "      <th>Sex</th>\n",
              "      <th></th>\n",
              "    </tr>\n",
              "  </thead>\n",
              "  <tbody>\n",
              "    <tr>\n",
              "      <th>female</th>\n",
              "      <td>74</td>\n",
              "    </tr>\n",
              "    <tr>\n",
              "      <th>male</th>\n",
              "      <td>18</td>\n",
              "    </tr>\n",
              "  </tbody>\n",
              "</table>\n",
              "</div>\n",
              "      <button class=\"colab-df-convert\" onclick=\"convertToInteractive('df-148cb195-5d9c-4181-906d-fc6d45f71a55')\"\n",
              "              title=\"Convert this dataframe to an interactive table.\"\n",
              "              style=\"display:none;\">\n",
              "        \n",
              "  <svg xmlns=\"http://www.w3.org/2000/svg\" height=\"24px\"viewBox=\"0 0 24 24\"\n",
              "       width=\"24px\">\n",
              "    <path d=\"M0 0h24v24H0V0z\" fill=\"none\"/>\n",
              "    <path d=\"M18.56 5.44l.94 2.06.94-2.06 2.06-.94-2.06-.94-.94-2.06-.94 2.06-2.06.94zm-11 1L8.5 8.5l.94-2.06 2.06-.94-2.06-.94L8.5 2.5l-.94 2.06-2.06.94zm10 10l.94 2.06.94-2.06 2.06-.94-2.06-.94-.94-2.06-.94 2.06-2.06.94z\"/><path d=\"M17.41 7.96l-1.37-1.37c-.4-.4-.92-.59-1.43-.59-.52 0-1.04.2-1.43.59L10.3 9.45l-7.72 7.72c-.78.78-.78 2.05 0 2.83L4 21.41c.39.39.9.59 1.41.59.51 0 1.02-.2 1.41-.59l7.78-7.78 2.81-2.81c.8-.78.8-2.07 0-2.86zM5.41 20L4 18.59l7.72-7.72 1.47 1.35L5.41 20z\"/>\n",
              "  </svg>\n",
              "      </button>\n",
              "      \n",
              "  <style>\n",
              "    .colab-df-container {\n",
              "      display:flex;\n",
              "      flex-wrap:wrap;\n",
              "      gap: 12px;\n",
              "    }\n",
              "\n",
              "    .colab-df-convert {\n",
              "      background-color: #E8F0FE;\n",
              "      border: none;\n",
              "      border-radius: 50%;\n",
              "      cursor: pointer;\n",
              "      display: none;\n",
              "      fill: #1967D2;\n",
              "      height: 32px;\n",
              "      padding: 0 0 0 0;\n",
              "      width: 32px;\n",
              "    }\n",
              "\n",
              "    .colab-df-convert:hover {\n",
              "      background-color: #E2EBFA;\n",
              "      box-shadow: 0px 1px 2px rgba(60, 64, 67, 0.3), 0px 1px 3px 1px rgba(60, 64, 67, 0.15);\n",
              "      fill: #174EA6;\n",
              "    }\n",
              "\n",
              "    [theme=dark] .colab-df-convert {\n",
              "      background-color: #3B4455;\n",
              "      fill: #D2E3FC;\n",
              "    }\n",
              "\n",
              "    [theme=dark] .colab-df-convert:hover {\n",
              "      background-color: #434B5C;\n",
              "      box-shadow: 0px 1px 3px 1px rgba(0, 0, 0, 0.15);\n",
              "      filter: drop-shadow(0px 1px 2px rgba(0, 0, 0, 0.3));\n",
              "      fill: #FFFFFF;\n",
              "    }\n",
              "  </style>\n",
              "\n",
              "      <script>\n",
              "        const buttonEl =\n",
              "          document.querySelector('#df-148cb195-5d9c-4181-906d-fc6d45f71a55 button.colab-df-convert');\n",
              "        buttonEl.style.display =\n",
              "          google.colab.kernel.accessAllowed ? 'block' : 'none';\n",
              "\n",
              "        async function convertToInteractive(key) {\n",
              "          const element = document.querySelector('#df-148cb195-5d9c-4181-906d-fc6d45f71a55');\n",
              "          const dataTable =\n",
              "            await google.colab.kernel.invokeFunction('convertToInteractive',\n",
              "                                                     [key], {});\n",
              "          if (!dataTable) return;\n",
              "\n",
              "          const docLinkHtml = 'Like what you see? Visit the ' +\n",
              "            '<a target=\"_blank\" href=https://colab.research.google.com/notebooks/data_table.ipynb>data table notebook</a>'\n",
              "            + ' to learn more about interactive tables.';\n",
              "          element.innerHTML = '';\n",
              "          dataTable['output_type'] = 'display_data';\n",
              "          await google.colab.output.renderOutput(dataTable, element);\n",
              "          const docLink = document.createElement('div');\n",
              "          docLink.innerHTML = docLinkHtml;\n",
              "          element.appendChild(docLink);\n",
              "        }\n",
              "      </script>\n",
              "    </div>\n",
              "  </div>\n",
              "  "
            ]
          },
          "metadata": {},
          "execution_count": 17
        }
      ]
    },
    {
      "cell_type": "markdown",
      "metadata": {
        "id": "R5oOYEBE5gMr"
      },
      "source": [
        "**Expected output:**\n",
        "\n",
        "```python\n",
        "\t    Survived\n",
        "Sex\t\n",
        "female  74\n",
        "male    18\n",
        "```"
      ]
    },
    {
      "cell_type": "markdown",
      "source": [
        "## **3. Elimination of records with missing values**\n",
        "\n",
        "The *Titanic* dataset has several rows and columns with missing values. An alternative to cleaning the *dataset* is to delete records (rows) that have at least one missing variable or delete variables (columns) that have at least one missing value.\n",
        "\n",
        "Using *pandas*:\n",
        "1. Save to the *DataFrame* **`non_null_rows_titanic`** the dataset after rows with missing values are removed.\n",
        "2. Store in the *DataFrame* **`non_null_cols_titanic`** the dataset after columns with missing values are removed.\n",
        "  \n",
        "**IMPORTANT**: Be careful not to overwrite or modify the original *Dataframe* **`full_titanic`**. In case you modify it by mistake, you must load it again."
      ],
      "metadata": {
        "id": "TyADPAv6J9MU"
      }
    },
    {
      "cell_type": "markdown",
      "metadata": {
        "id": "YtpDHne5KeXC"
      },
      "source": [
        "<details>    \n",
        "<summary>\n",
        "    <font size=\"3\" color=\"darkgreen\"><b>Hints</b></font>\n",
        "</summary>\n",
        "\n",
        "* *Pandas* has several functions for dealing with missing values like **`fillna`**, **`dropna`**, **`isna`** and **`notna`**, which allow you to perform different tasks with these types of values.\n",
        "* In *pandas*, as in *NumPy*, it is possible to use the **`axis`** argument in various functions. It is very useful when you want to distinguish between rows and columns to perform a certain operation. Verify that the dimension you are performing the operation on is correct."
      ]
    },
    {
      "cell_type": "markdown",
      "source": [
        "### **3.1. Elimination of rows with missing values**"
      ],
      "metadata": {
        "id": "W4mGmF_fK68T"
      }
    },
    {
      "cell_type": "code",
      "metadata": {
        "id": "rycp6oBHcH84"
      },
      "source": [
        "\n",
        "non_null_rows_titanic = titanic.dropna()\n"
      ],
      "execution_count": null,
      "outputs": []
    },
    {
      "cell_type": "code",
      "metadata": {
        "colab": {
          "base_uri": "https://localhost:8080/"
        },
        "outputId": "8bdf928e-899f-45f9-e8a7-777055ffbe79",
        "id": "4mRAwrlBLOYs"
      },
      "source": [
        "#TEST_CELL\n",
        "non_null_rows_titanic.count()"
      ],
      "execution_count": null,
      "outputs": [
        {
          "output_type": "execute_result",
          "data": {
            "text/plain": [
              "PassengerId    183\n",
              "Survived       183\n",
              "Pclass         183\n",
              "Name           183\n",
              "Sex            183\n",
              "Age            183\n",
              "SibSp          183\n",
              "Parch          183\n",
              "Ticket         183\n",
              "Fare           183\n",
              "Cabin          183\n",
              "Embarked       183\n",
              "dtype: int64"
            ]
          },
          "metadata": {},
          "execution_count": 19
        }
      ]
    },
    {
      "cell_type": "markdown",
      "metadata": {
        "id": "SV96le8WLYX5"
      },
      "source": [
        "**Expected output:**\n",
        "\n",
        "```python\n",
        "PassengerId    183\n",
        "Survived       183\n",
        "Pclass         183\n",
        "Name           183\n",
        "Sex            183\n",
        "Age            183\n",
        "SibSp          183\n",
        "Parch          183\n",
        "Ticket         183\n",
        "Fare           183\n",
        "Cabin          183\n",
        "Embarked       183\n",
        "dtype: int64\n",
        "```"
      ]
    },
    {
      "cell_type": "markdown",
      "source": [
        "### **3.2. Removing columns with missing values**"
      ],
      "metadata": {
        "id": "f8qnO6ziLwwC"
      }
    },
    {
      "cell_type": "code",
      "metadata": {
        "id": "rQrCspCrBIQQ"
      },
      "source": [
        "  non_null_cols_titanic =  titanic.dropna(axis=1)"
      ],
      "execution_count": null,
      "outputs": []
    },
    {
      "cell_type": "code",
      "metadata": {
        "id": "qDs6oBSSGXoa",
        "colab": {
          "base_uri": "https://localhost:8080/"
        },
        "outputId": "72e430a4-e733-461b-ac0d-e79ebacd0caa"
      },
      "source": [
        "#TEST_CELL\n",
        "non_null_cols_titanic.count()"
      ],
      "execution_count": null,
      "outputs": [
        {
          "output_type": "execute_result",
          "data": {
            "text/plain": [
              "PassengerId    891\n",
              "Survived       891\n",
              "Pclass         891\n",
              "Name           891\n",
              "Sex            891\n",
              "SibSp          891\n",
              "Parch          891\n",
              "Ticket         891\n",
              "Fare           891\n",
              "dtype: int64"
            ]
          },
          "metadata": {},
          "execution_count": 21
        }
      ]
    },
    {
      "cell_type": "markdown",
      "metadata": {
        "id": "VvlcNVasHAQc"
      },
      "source": [
        "**Expected output:**\n",
        "\n",
        "```python\n",
        "PassengerId    891\n",
        "Survived       891\n",
        "Pclass         891\n",
        "Name           891\n",
        "Sex            891\n",
        "SibSp          891\n",
        "Parch          891\n",
        "Ticket         891\n",
        "Fare           891\n",
        "dtype: int64\n",
        "```"
      ]
    },
    {
      "cell_type": "markdown",
      "source": [
        "## **4. Storage capacity**"
      ],
      "metadata": {
        "id": "vN7ZIHx0l4Po"
      }
    },
    {
      "cell_type": "markdown",
      "metadata": {
        "id": "SQYexz7fjJtv"
      },
      "source": [
        "Given the size of the original *dataset* of $891$ rows and $12$ columns, it had an original capacity to store $10692$ data (although some of it was empty). Performing the elimination of variables or records due to wrong format or missing information is a compromise between quantity and quality in the data set.\n",
        "\n",
        "How many values or cells do the new datasets created with the removal of missing data have?\n",
        "\n"
      ]
    },
    {
      "cell_type": "markdown",
      "metadata": {
        "id": "86rO3o7njOAm"
      },
      "source": [
        "<details>    \n",
        "<summary>\n",
        "    <font size=\"3\" color=\"darkgreen\"><b>Hints</b></font>\n",
        "</summary>\n",
        "\n",
        "* *Pandas* *DataFrame* objects have properties that reveal interesting features. Many times it is necessary to use these properties. Some of them are: **`index`**, **`dtypes`**, **`ndim`**, **`size`**, **`shape`**, among others."
      ]
    },
    {
      "cell_type": "markdown",
      "metadata": {
        "id": "fbnMjN-ngD_Z"
      },
      "source": [
        "### **4.1. What is the capacity of the DataFrame `**non_null_rows_titanic**`?**"
      ]
    },
    {
      "cell_type": "markdown",
      "source": [
        "How can these results be interpreted? Please always remember to analyze and interpret your findings."
      ],
      "metadata": {
        "id": "mDRnL3VuI9tk"
      }
    },
    {
      "cell_type": "code",
      "metadata": {
        "id": "uJ1iFrh-iPtJ",
        "colab": {
          "base_uri": "https://localhost:8080/"
        },
        "outputId": "74f99b50-5b83-4cbb-e4b3-c45cd96e4e3b"
      },
      "source": [
        "\n",
        "\n",
        "full_rows = non_null_rows_titanic.size\n",
        "\n",
        "\n",
        "full_rows"
      ],
      "execution_count": null,
      "outputs": [
        {
          "output_type": "execute_result",
          "data": {
            "text/plain": [
              "2196"
            ]
          },
          "metadata": {},
          "execution_count": 22
        }
      ]
    },
    {
      "cell_type": "markdown",
      "metadata": {
        "id": "t5N6Cm31h73D"
      },
      "source": [
        "### **4.2. What is the capacity of the `non_null_cols_titanic` DataFrame?**"
      ]
    },
    {
      "cell_type": "code",
      "metadata": {
        "id": "mdkKzNp8CHr3",
        "colab": {
          "base_uri": "https://localhost:8080/"
        },
        "outputId": "fb18732d-63f4-416f-edfb-685954815523"
      },
      "source": [
        "\n",
        "\n",
        "\n",
        "full_cols =  non_null_cols_titanic.size\n",
        "\n",
        "\n",
        "full_cols"
      ],
      "execution_count": null,
      "outputs": [
        {
          "output_type": "execute_result",
          "data": {
            "text/plain": [
              "8019"
            ]
          },
          "metadata": {},
          "execution_count": 23
        }
      ]
    },
    {
      "cell_type": "markdown",
      "source": [
        "Considering the resulting number of records with each option, either delete columns or delete rows: which would work best for a data analysis task? why?"
      ],
      "metadata": {
        "id": "3FGWzcI5nP0G"
      }
    },
    {
      "cell_type": "markdown",
      "metadata": {
        "id": "VuFVtcJWn4qP"
      },
      "source": [
        "## **5. Imputation of ages**\n",
        "---\n",
        "Many times it is not desirable to delete entire columns, even if they contain a few records with missing values, as it can mean losing a lot of other valuable data.\n",
        "\n",
        "In some cases, when performing data cleaning, you can choose to carry out a [**data imputation**](https://es.wikipedia.org/wiki/Imputaci%C3%B3n_(estad %C3%ADstic)). This consists of replacing missing values with other specific values. For example, the mean for numerical variables, or the most frequent value in the case of categorical variables.\n",
        "\n",
        "> **IMPORTANT: This type of procedure must be validated with business or domain experts so as not to bias the data in any way, since it implies the creation of artificial data that may not correspond to reality.**\n"
      ]
    },
    {
      "cell_type": "markdown",
      "source": [
        "In the next cell you can create a copy of the original *DataFrame*. This copy will be modified to have the complete answer in the following points."
      ],
      "metadata": {
        "id": "r48LyvUonnXM"
      }
    },
    {
      "cell_type": "code",
      "metadata": {
        "id": "46q1j1PSriJa"
      },
      "source": [
        "\n",
        "imputed_cols_titanic = titanic.copy()"
      ],
      "execution_count": null,
      "outputs": []
    },
    {
      "cell_type": "markdown",
      "metadata": {
        "id": "-JyvNvj_TcM7"
      },
      "source": [
        "<details>    \n",
        "<summary>\n",
        "    <font size=\"3\" color=\"darkgreen\"><b>Hints</b></font>\n",
        "</summary>\n",
        "\n",
        "* *Pandas* has several functions for dealing with missing values like **`fillna`**, **`dropna`**, **`isna`** and **`notna`**, which allow you to perform different tasks with these types of values.\n",
        "* Check your notes or previous resources for the functions needed to do operations like summation, average, or find the maximum of an object in *pandas*, and apply the ones needed for this exercise."
      ]
    },
    {
      "cell_type": "markdown",
      "metadata": {
        "id": "uBshprHArPw1"
      },
      "source": [
        "Using *pandas* save in **`imputed_cols_titanic`** the *DataFrame* that results after replacing the missing values in the **`Age`** column with the average value of that variable. Be careful not to overwrite the original *DataFrame* **`full_titanic`**.\n",
        "\n",
        "Although we could do this in a single line of code, we'll do it in $2$ parts:"
      ]
    },
    {
      "cell_type": "markdown",
      "source": [
        "### **5.1. Find the mean of the variable `Age`**\n"
      ],
      "metadata": {
        "id": "hApQPy9ToeKo"
      }
    },
    {
      "cell_type": "code",
      "metadata": {
        "id": "FnqoD1yUxcKb",
        "colab": {
          "base_uri": "https://localhost:8080/"
        },
        "outputId": "f782d957-0ff0-4db9-e53f-8de7f1e5b84c"
      },
      "source": [
        "\n",
        "age_mean = titanic['Age'].mean()\n",
        "print(age_mean)"
      ],
      "execution_count": null,
      "outputs": [
        {
          "output_type": "stream",
          "name": "stdout",
          "text": [
            "29.69911764705882\n"
          ]
        }
      ]
    },
    {
      "cell_type": "markdown",
      "source": [
        "### **5.2. Set the missing values in the `Age` column to the middle value**"
      ],
      "metadata": {
        "id": "fvupczk7pLXV"
      }
    },
    {
      "cell_type": "markdown",
      "source": [
        "Assign missing values in the **`Age`** column to the mean value of that variable in the **`imputed_cols_titanic`** dataframe:"
      ],
      "metadata": {
        "id": "UDFS1280pQFn"
      }
    },
    {
      "cell_type": "code",
      "metadata": {
        "id": "hTXwN0Ekjz7f"
      },
      "source": [
        "\n",
        "imputed_cols_titanic['Age'] = titanic['Age'].fillna(value=age_mean)"
      ],
      "execution_count": null,
      "outputs": []
    },
    {
      "cell_type": "code",
      "source": [
        "\n",
        "\n",
        "imputed_cols_titanic['Age'].isna().sum()"
      ],
      "metadata": {
        "id": "FDaOSotXprn_",
        "colab": {
          "base_uri": "https://localhost:8080/"
        },
        "outputId": "f8b13df3-cd80-43cb-accf-2e5b40855ab6"
      },
      "execution_count": null,
      "outputs": [
        {
          "output_type": "execute_result",
          "data": {
            "text/plain": [
              "0"
            ]
          },
          "metadata": {},
          "execution_count": 27
        }
      ]
    },
    {
      "cell_type": "markdown",
      "metadata": {
        "id": "mdi8mxcusJWv"
      },
      "source": [
        "The output of the above cell should be: \n",
        "```python\n",
        "0\n",
        "```"
      ]
    },
    {
      "cell_type": "markdown",
      "source": [
        "## **6. Creating the `Family`** feature\n",
        "---\n",
        "The data set has the variables **`SibSp`** and **`Parch`** for the registration of relatives on board the ship. **`SibSp`** corresponds to the number of crew members who are siblings or spouse of the passenger. For its part, **`Parch`** represents the number of parents (or grandparents) and children (or grandchildren).\n",
        "\n",
        "To condense this information into a single variable, they can be added to obtain the size of the family of each crew member.\n",
        "\n",
        "Create a new column called **`Family`** that stores the sum of the **`SibSp`** and **`Parch`** columns. Use and modify the *DataFrame* **`imputed_cols_titanic`**."
      ],
      "metadata": {
        "id": "qrOl_ho9p_GA"
      }
    },
    {
      "cell_type": "markdown",
      "metadata": {
        "id": "AizvxnUIT6iG"
      },
      "source": [
        "<details>    \n",
        "<summary>\n",
        "    <font size=\"3\" color=\"darkgreen\"><b>Hints</b></font>\n",
        "</summary>\n",
        "\n",
        "* *Pandas* allows you to use operators such as addition and multiplication between your objects, respecting the rules of *NumPy*.\n",
        "* Make sure to use the correct name of the new column and the original columns, and not to modify the original *dataset* to prevent scoring errors."
      ]
    },
    {
      "cell_type": "code",
      "metadata": {
        "id": "iCeG967q16IJ"
      },
      "source": [
        "\n",
        "imputed_cols_titanic['Family'] = imputed_cols_titanic['SibSp'] + imputed_cols_titanic['Parch']"
      ],
      "execution_count": null,
      "outputs": []
    },
    {
      "cell_type": "code",
      "metadata": {
        "id": "R72OpNOkL_-3",
        "colab": {
          "base_uri": "https://localhost:8080/"
        },
        "outputId": "d8c106b4-bcd3-4532-fb40-d345d8ca6511"
      },
      "source": [
        "#TEST_CELL\n",
        "imputed_cols_titanic['Family'].head(10)"
      ],
      "execution_count": null,
      "outputs": [
        {
          "output_type": "execute_result",
          "data": {
            "text/plain": [
              "0    1\n",
              "1    1\n",
              "2    0\n",
              "3    1\n",
              "4    0\n",
              "5    0\n",
              "6    0\n",
              "7    4\n",
              "8    2\n",
              "9    1\n",
              "Name: Family, dtype: int64"
            ]
          },
          "metadata": {},
          "execution_count": 29
        }
      ]
    },
    {
      "cell_type": "markdown",
      "source": [
        "The output of the above cell should be: \n",
        "```python\n",
        "0    1\n",
        "1    1\n",
        "2    0\n",
        "3    1\n",
        "4    0\n",
        "5    0\n",
        "6    0\n",
        "7    4\n",
        "8    2\n",
        "9    1\n",
        "Name: Family, dtype: int64\n",
        "```"
      ],
      "metadata": {
        "id": "BH3kennRqdTb"
      }
    },
    {
      "cell_type": "code",
      "source": [
        "#TEST_CELL\n",
        "import numpy as np\n",
        "print(np.array(imputed_cols_titanic['Family']).sum())"
      ],
      "metadata": {
        "id": "YlwXnzB-TkAu",
        "colab": {
          "base_uri": "https://localhost:8080/"
        },
        "outputId": "0bb34f3a-ac7e-49f8-d4ed-347bd0379087"
      },
      "execution_count": null,
      "outputs": [
        {
          "output_type": "stream",
          "name": "stdout",
          "text": [
            "806\n"
          ]
        }
      ]
    },
    {
      "cell_type": "markdown",
      "source": [
        "The output of the above cell should be: \n",
        "```python\n",
        "806\n",
        "```"
      ],
      "metadata": {
        "id": "Rm9Y6jWeTa7p"
      }
    },
    {
      "cell_type": "markdown",
      "source": [
        "<details>    \n",
        "<summary>\n",
        "    <font size=\"3\" color=\"darkgreen\"><b>Hints</b></font>\n",
        "</summary>\n",
        "\n",
        "* *matplotlib.pyplot* has several ploting functions like, **`.pie`**, **`.hist`**, etc; which allow you to perform different exploratory graphical analysis.\n",
        "* *statsmodels.graphics.mosaicplot* has the **`mosaic`** plot analyze one factore versus another factor.\n"
      ],
      "metadata": {
        "id": "jxUrd7KYR-r5"
      }
    },
    {
      "cell_type": "markdown",
      "source": [
        "**How can all these results be interpreted? Please always remember to analyze and interpret your findings and use plots to support your findings:** ..."
      ],
      "metadata": {
        "id": "zU17TdfHnWBO"
      }
    },
    {
      "cell_type": "code",
      "source": [
        "import pandas as pd\n",
        "import numpy as np\n",
        "import matplotlib.pyplot as plt "
      ],
      "metadata": {
        "id": "3O2hX6dpPP1N"
      },
      "execution_count": null,
      "outputs": []
    },
    {
      "cell_type": "code",
      "source": [
        "titanic"
      ],
      "metadata": {
        "colab": {
          "base_uri": "https://localhost:8080/",
          "height": 424
        },
        "id": "JA1S1tW0Gywa",
        "outputId": "0b98db2b-a1d7-49ca-bce7-f51103ee93ae"
      },
      "execution_count": null,
      "outputs": [
        {
          "output_type": "execute_result",
          "data": {
            "text/plain": [
              "     PassengerId  Survived  Pclass  \\\n",
              "0              1         0       3   \n",
              "1              2         1       1   \n",
              "2              3         1       3   \n",
              "3              4         1       1   \n",
              "4              5         0       3   \n",
              "..           ...       ...     ...   \n",
              "886          887         0       2   \n",
              "887          888         1       1   \n",
              "888          889         0       3   \n",
              "889          890         1       1   \n",
              "890          891         0       3   \n",
              "\n",
              "                                                  Name     Sex   Age  SibSp  \\\n",
              "0                              Braund, Mr. Owen Harris    male  22.0      1   \n",
              "1    Cumings, Mrs. John Bradley (Florence Briggs Th...  female  38.0      1   \n",
              "2                               Heikkinen, Miss. Laina  female  26.0      0   \n",
              "3         Futrelle, Mrs. Jacques Heath (Lily May Peel)  female  35.0      1   \n",
              "4                             Allen, Mr. William Henry    male  35.0      0   \n",
              "..                                                 ...     ...   ...    ...   \n",
              "886                              Montvila, Rev. Juozas    male  27.0      0   \n",
              "887                       Graham, Miss. Margaret Edith  female  19.0      0   \n",
              "888           Johnston, Miss. Catherine Helen \"Carrie\"  female   NaN      1   \n",
              "889                              Behr, Mr. Karl Howell    male  26.0      0   \n",
              "890                                Dooley, Mr. Patrick    male  32.0      0   \n",
              "\n",
              "     Parch            Ticket     Fare Cabin Embarked  \n",
              "0        0         A/5 21171   7.2500   NaN        S  \n",
              "1        0          PC 17599  71.2833   C85        C  \n",
              "2        0  STON/O2. 3101282   7.9250   NaN        S  \n",
              "3        0            113803  53.1000  C123        S  \n",
              "4        0            373450   8.0500   NaN        S  \n",
              "..     ...               ...      ...   ...      ...  \n",
              "886      0            211536  13.0000   NaN        S  \n",
              "887      0            112053  30.0000   B42        S  \n",
              "888      2        W./C. 6607  23.4500   NaN        S  \n",
              "889      0            111369  30.0000  C148        C  \n",
              "890      0            370376   7.7500   NaN        Q  \n",
              "\n",
              "[891 rows x 12 columns]"
            ],
            "text/html": [
              "\n",
              "  <div id=\"df-e0c5016e-e9db-4fec-9173-f951965cbb82\">\n",
              "    <div class=\"colab-df-container\">\n",
              "      <div>\n",
              "<style scoped>\n",
              "    .dataframe tbody tr th:only-of-type {\n",
              "        vertical-align: middle;\n",
              "    }\n",
              "\n",
              "    .dataframe tbody tr th {\n",
              "        vertical-align: top;\n",
              "    }\n",
              "\n",
              "    .dataframe thead th {\n",
              "        text-align: right;\n",
              "    }\n",
              "</style>\n",
              "<table border=\"1\" class=\"dataframe\">\n",
              "  <thead>\n",
              "    <tr style=\"text-align: right;\">\n",
              "      <th></th>\n",
              "      <th>PassengerId</th>\n",
              "      <th>Survived</th>\n",
              "      <th>Pclass</th>\n",
              "      <th>Name</th>\n",
              "      <th>Sex</th>\n",
              "      <th>Age</th>\n",
              "      <th>SibSp</th>\n",
              "      <th>Parch</th>\n",
              "      <th>Ticket</th>\n",
              "      <th>Fare</th>\n",
              "      <th>Cabin</th>\n",
              "      <th>Embarked</th>\n",
              "    </tr>\n",
              "  </thead>\n",
              "  <tbody>\n",
              "    <tr>\n",
              "      <th>0</th>\n",
              "      <td>1</td>\n",
              "      <td>0</td>\n",
              "      <td>3</td>\n",
              "      <td>Braund, Mr. Owen Harris</td>\n",
              "      <td>male</td>\n",
              "      <td>22.0</td>\n",
              "      <td>1</td>\n",
              "      <td>0</td>\n",
              "      <td>A/5 21171</td>\n",
              "      <td>7.2500</td>\n",
              "      <td>NaN</td>\n",
              "      <td>S</td>\n",
              "    </tr>\n",
              "    <tr>\n",
              "      <th>1</th>\n",
              "      <td>2</td>\n",
              "      <td>1</td>\n",
              "      <td>1</td>\n",
              "      <td>Cumings, Mrs. John Bradley (Florence Briggs Th...</td>\n",
              "      <td>female</td>\n",
              "      <td>38.0</td>\n",
              "      <td>1</td>\n",
              "      <td>0</td>\n",
              "      <td>PC 17599</td>\n",
              "      <td>71.2833</td>\n",
              "      <td>C85</td>\n",
              "      <td>C</td>\n",
              "    </tr>\n",
              "    <tr>\n",
              "      <th>2</th>\n",
              "      <td>3</td>\n",
              "      <td>1</td>\n",
              "      <td>3</td>\n",
              "      <td>Heikkinen, Miss. Laina</td>\n",
              "      <td>female</td>\n",
              "      <td>26.0</td>\n",
              "      <td>0</td>\n",
              "      <td>0</td>\n",
              "      <td>STON/O2. 3101282</td>\n",
              "      <td>7.9250</td>\n",
              "      <td>NaN</td>\n",
              "      <td>S</td>\n",
              "    </tr>\n",
              "    <tr>\n",
              "      <th>3</th>\n",
              "      <td>4</td>\n",
              "      <td>1</td>\n",
              "      <td>1</td>\n",
              "      <td>Futrelle, Mrs. Jacques Heath (Lily May Peel)</td>\n",
              "      <td>female</td>\n",
              "      <td>35.0</td>\n",
              "      <td>1</td>\n",
              "      <td>0</td>\n",
              "      <td>113803</td>\n",
              "      <td>53.1000</td>\n",
              "      <td>C123</td>\n",
              "      <td>S</td>\n",
              "    </tr>\n",
              "    <tr>\n",
              "      <th>4</th>\n",
              "      <td>5</td>\n",
              "      <td>0</td>\n",
              "      <td>3</td>\n",
              "      <td>Allen, Mr. William Henry</td>\n",
              "      <td>male</td>\n",
              "      <td>35.0</td>\n",
              "      <td>0</td>\n",
              "      <td>0</td>\n",
              "      <td>373450</td>\n",
              "      <td>8.0500</td>\n",
              "      <td>NaN</td>\n",
              "      <td>S</td>\n",
              "    </tr>\n",
              "    <tr>\n",
              "      <th>...</th>\n",
              "      <td>...</td>\n",
              "      <td>...</td>\n",
              "      <td>...</td>\n",
              "      <td>...</td>\n",
              "      <td>...</td>\n",
              "      <td>...</td>\n",
              "      <td>...</td>\n",
              "      <td>...</td>\n",
              "      <td>...</td>\n",
              "      <td>...</td>\n",
              "      <td>...</td>\n",
              "      <td>...</td>\n",
              "    </tr>\n",
              "    <tr>\n",
              "      <th>886</th>\n",
              "      <td>887</td>\n",
              "      <td>0</td>\n",
              "      <td>2</td>\n",
              "      <td>Montvila, Rev. Juozas</td>\n",
              "      <td>male</td>\n",
              "      <td>27.0</td>\n",
              "      <td>0</td>\n",
              "      <td>0</td>\n",
              "      <td>211536</td>\n",
              "      <td>13.0000</td>\n",
              "      <td>NaN</td>\n",
              "      <td>S</td>\n",
              "    </tr>\n",
              "    <tr>\n",
              "      <th>887</th>\n",
              "      <td>888</td>\n",
              "      <td>1</td>\n",
              "      <td>1</td>\n",
              "      <td>Graham, Miss. Margaret Edith</td>\n",
              "      <td>female</td>\n",
              "      <td>19.0</td>\n",
              "      <td>0</td>\n",
              "      <td>0</td>\n",
              "      <td>112053</td>\n",
              "      <td>30.0000</td>\n",
              "      <td>B42</td>\n",
              "      <td>S</td>\n",
              "    </tr>\n",
              "    <tr>\n",
              "      <th>888</th>\n",
              "      <td>889</td>\n",
              "      <td>0</td>\n",
              "      <td>3</td>\n",
              "      <td>Johnston, Miss. Catherine Helen \"Carrie\"</td>\n",
              "      <td>female</td>\n",
              "      <td>NaN</td>\n",
              "      <td>1</td>\n",
              "      <td>2</td>\n",
              "      <td>W./C. 6607</td>\n",
              "      <td>23.4500</td>\n",
              "      <td>NaN</td>\n",
              "      <td>S</td>\n",
              "    </tr>\n",
              "    <tr>\n",
              "      <th>889</th>\n",
              "      <td>890</td>\n",
              "      <td>1</td>\n",
              "      <td>1</td>\n",
              "      <td>Behr, Mr. Karl Howell</td>\n",
              "      <td>male</td>\n",
              "      <td>26.0</td>\n",
              "      <td>0</td>\n",
              "      <td>0</td>\n",
              "      <td>111369</td>\n",
              "      <td>30.0000</td>\n",
              "      <td>C148</td>\n",
              "      <td>C</td>\n",
              "    </tr>\n",
              "    <tr>\n",
              "      <th>890</th>\n",
              "      <td>891</td>\n",
              "      <td>0</td>\n",
              "      <td>3</td>\n",
              "      <td>Dooley, Mr. Patrick</td>\n",
              "      <td>male</td>\n",
              "      <td>32.0</td>\n",
              "      <td>0</td>\n",
              "      <td>0</td>\n",
              "      <td>370376</td>\n",
              "      <td>7.7500</td>\n",
              "      <td>NaN</td>\n",
              "      <td>Q</td>\n",
              "    </tr>\n",
              "  </tbody>\n",
              "</table>\n",
              "<p>891 rows × 12 columns</p>\n",
              "</div>\n",
              "      <button class=\"colab-df-convert\" onclick=\"convertToInteractive('df-e0c5016e-e9db-4fec-9173-f951965cbb82')\"\n",
              "              title=\"Convert this dataframe to an interactive table.\"\n",
              "              style=\"display:none;\">\n",
              "        \n",
              "  <svg xmlns=\"http://www.w3.org/2000/svg\" height=\"24px\"viewBox=\"0 0 24 24\"\n",
              "       width=\"24px\">\n",
              "    <path d=\"M0 0h24v24H0V0z\" fill=\"none\"/>\n",
              "    <path d=\"M18.56 5.44l.94 2.06.94-2.06 2.06-.94-2.06-.94-.94-2.06-.94 2.06-2.06.94zm-11 1L8.5 8.5l.94-2.06 2.06-.94-2.06-.94L8.5 2.5l-.94 2.06-2.06.94zm10 10l.94 2.06.94-2.06 2.06-.94-2.06-.94-.94-2.06-.94 2.06-2.06.94z\"/><path d=\"M17.41 7.96l-1.37-1.37c-.4-.4-.92-.59-1.43-.59-.52 0-1.04.2-1.43.59L10.3 9.45l-7.72 7.72c-.78.78-.78 2.05 0 2.83L4 21.41c.39.39.9.59 1.41.59.51 0 1.02-.2 1.41-.59l7.78-7.78 2.81-2.81c.8-.78.8-2.07 0-2.86zM5.41 20L4 18.59l7.72-7.72 1.47 1.35L5.41 20z\"/>\n",
              "  </svg>\n",
              "      </button>\n",
              "      \n",
              "  <style>\n",
              "    .colab-df-container {\n",
              "      display:flex;\n",
              "      flex-wrap:wrap;\n",
              "      gap: 12px;\n",
              "    }\n",
              "\n",
              "    .colab-df-convert {\n",
              "      background-color: #E8F0FE;\n",
              "      border: none;\n",
              "      border-radius: 50%;\n",
              "      cursor: pointer;\n",
              "      display: none;\n",
              "      fill: #1967D2;\n",
              "      height: 32px;\n",
              "      padding: 0 0 0 0;\n",
              "      width: 32px;\n",
              "    }\n",
              "\n",
              "    .colab-df-convert:hover {\n",
              "      background-color: #E2EBFA;\n",
              "      box-shadow: 0px 1px 2px rgba(60, 64, 67, 0.3), 0px 1px 3px 1px rgba(60, 64, 67, 0.15);\n",
              "      fill: #174EA6;\n",
              "    }\n",
              "\n",
              "    [theme=dark] .colab-df-convert {\n",
              "      background-color: #3B4455;\n",
              "      fill: #D2E3FC;\n",
              "    }\n",
              "\n",
              "    [theme=dark] .colab-df-convert:hover {\n",
              "      background-color: #434B5C;\n",
              "      box-shadow: 0px 1px 3px 1px rgba(0, 0, 0, 0.15);\n",
              "      filter: drop-shadow(0px 1px 2px rgba(0, 0, 0, 0.3));\n",
              "      fill: #FFFFFF;\n",
              "    }\n",
              "  </style>\n",
              "\n",
              "      <script>\n",
              "        const buttonEl =\n",
              "          document.querySelector('#df-e0c5016e-e9db-4fec-9173-f951965cbb82 button.colab-df-convert');\n",
              "        buttonEl.style.display =\n",
              "          google.colab.kernel.accessAllowed ? 'block' : 'none';\n",
              "\n",
              "        async function convertToInteractive(key) {\n",
              "          const element = document.querySelector('#df-e0c5016e-e9db-4fec-9173-f951965cbb82');\n",
              "          const dataTable =\n",
              "            await google.colab.kernel.invokeFunction('convertToInteractive',\n",
              "                                                     [key], {});\n",
              "          if (!dataTable) return;\n",
              "\n",
              "          const docLinkHtml = 'Like what you see? Visit the ' +\n",
              "            '<a target=\"_blank\" href=https://colab.research.google.com/notebooks/data_table.ipynb>data table notebook</a>'\n",
              "            + ' to learn more about interactive tables.';\n",
              "          element.innerHTML = '';\n",
              "          dataTable['output_type'] = 'display_data';\n",
              "          await google.colab.output.renderOutput(dataTable, element);\n",
              "          const docLink = document.createElement('div');\n",
              "          docLink.innerHTML = docLinkHtml;\n",
              "          element.appendChild(docLink);\n",
              "        }\n",
              "      </script>\n",
              "    </div>\n",
              "  </div>\n",
              "  "
            ]
          },
          "metadata": {},
          "execution_count": 32
        }
      ]
    },
    {
      "cell_type": "markdown",
      "source": [
        "**Proportion Survived - Died**\n",
        "\n",
        "This is the proportion of the people who survived and those who died.\n",
        "\n",
        "More people survived than died"
      ],
      "metadata": {
        "id": "3FXjmU8Nn8fz"
      }
    },
    {
      "cell_type": "code",
      "source": [
        "plt.title(\"Ratio Survived - Died\")\n",
        "names = ('Survived','Died')\n",
        "plot = titanic['Survived'].value_counts().plot(kind='pie', figsize=(5,5), autopct='%1.1f%%', labels = names)\n",
        "plot.axes.get_yaxis().set_visible(False)"
      ],
      "metadata": {
        "colab": {
          "base_uri": "https://localhost:8080/",
          "height": 319
        },
        "id": "UcgiQIlQb9jf",
        "outputId": "2858b1b9-bb37-468d-8a2c-81fcbff540ae"
      },
      "execution_count": null,
      "outputs": [
        {
          "output_type": "display_data",
          "data": {
            "text/plain": [
              "<Figure size 360x360 with 1 Axes>"
            ],
            "image/png": "[encoded data removed]"
          },
          "metadata": {}
        }
      ]
    },
    {
      "cell_type": "markdown",
      "source": [
        "**Proportion Sex**\n",
        "\n",
        "This is the sex proportion of the people on the titanic\n",
        "\n",
        "There were more women than men on the Titanic."
      ],
      "metadata": {
        "id": "RSlMGvkYopw9"
      }
    },
    {
      "cell_type": "code",
      "source": [
        "plt.title(\"Proportion by Sex\")\n",
        "names = ('Female','Male')\n",
        "plot = titanic['Sex'].value_counts().plot(kind='pie', figsize=(5,5), autopct='%1.1f%%', labels = names)\n",
        "plot.axes.get_yaxis().set_visible(False)"
      ],
      "metadata": {
        "colab": {
          "base_uri": "https://localhost:8080/",
          "height": 319
        },
        "id": "89W-MaeCgsni",
        "outputId": "85c9fe35-3382-442f-9514-6c2b76255107"
      },
      "execution_count": null,
      "outputs": [
        {
          "output_type": "display_data",
          "data": {
            "text/plain": [
              "<Figure size 360x360 with 1 Axes>"
            ],
            "image/png": "[encoded data removed]"
          },
          "metadata": {}
        }
      ]
    },
    {
      "cell_type": "markdown",
      "source": [
        "**Ratio Adults - Children**\n",
        "\n",
        "This is the proportion of people to adults (over 18 years) and children (under 18 years)\n",
        "\n",
        "Most passengers were adults, less than 13% were childrens."
      ],
      "metadata": {
        "id": "xck1sVHko481"
      }
    },
    {
      "cell_type": "code",
      "source": [
        "titanic[\"Adults\"] = np.where(titanic[\"Age\"]<18,\"Children\",\"Adults\")\n",
        "plt.title(\"Ratio by age\")\n",
        "names = ('Adults','Children')\n",
        "plot = titanic['Adults'].value_counts().plot(kind='pie', figsize=(5,5), autopct='%1.1f%%', labels = names)\n",
        "plot.axes.get_yaxis().set_visible(False)"
      ],
      "metadata": {
        "colab": {
          "base_uri": "https://localhost:8080/",
          "height": 319
        },
        "id": "t0q0mlvEnrfJ",
        "outputId": "01971ec1-3574-4e35-a28f-9bf09dbeb7e6"
      },
      "execution_count": null,
      "outputs": [
        {
          "output_type": "display_data",
          "data": {
            "text/plain": [
              "<Figure size 360x360 with 1 Axes>"
            ],
            "image/png": "[encoded data removed]"
          },
          "metadata": {}
        }
      ]
    },
    {
      "cell_type": "markdown",
      "source": [
        "**Amount of Survived by Sex and Embarked**\n",
        "\n",
        "This is the number of people who survived (1) or died (0), according to their sex and the embarket they took\n",
        "\n",
        "The largest number of people who died were men who embarked in Southampton (S)"
      ],
      "metadata": {
        "id": "ANfSBtDJp1tt"
      }
    },
    {
      "cell_type": "code",
      "source": [
        "plot = titanic.groupby([\"Embarked\",\"Sex\",\"Survived\"]).size().unstack(fill_value=0).plot.bar()\n",
        "plot.set_title(\"Survived by Embarked\")\n",
        "plot.set_ylabel(\"Amount\")\n",
        "plot"
      ],
      "metadata": {
        "colab": {
          "base_uri": "https://localhost:8080/",
          "height": 360
        },
        "id": "H4NgKgs7FsMJ",
        "outputId": "2dd704e0-8155-4649-d58e-daf14125ece0"
      },
      "execution_count": null,
      "outputs": [
        {
          "output_type": "execute_result",
          "data": {
            "text/plain": [
              "<AxesSubplot:title={'center':'Survived by Embarked'}, xlabel='Embarked,Sex', ylabel='Amount'>"
            ]
          },
          "metadata": {},
          "execution_count": 36
        },
        {
          "output_type": "display_data",
          "data": {
            "text/plain": [
              "<Figure size 432x288 with 1 Axes>"
            ],
            "image/png": "[encoded data removed]"
          },
          "metadata": {
            "needs_background": "light"
          }
        }
      ]
    },
    {
      "cell_type": "markdown",
      "source": [
        "**Amount of Survived by Adults - Childrens and sex**\n",
        "\n",
        "This is the number of people who survived (1) or died (0), according to their sex and the they are childrens or adults\n",
        "\n",
        "The largest number of people who died were adults men"
      ],
      "metadata": {
        "id": "L0XF1bWFsW_K"
      }
    },
    {
      "cell_type": "code",
      "source": [
        "plot = titanic.groupby([\"Adults\",\"Sex\",\"Survived\"]).size().unstack(fill_value=0).plot.bar()\n",
        "plot.set_title(\"Survived by Adults-Childrens\")\n",
        "plot.set_ylabel(\"Amount\")\n",
        "plot"
      ],
      "metadata": {
        "colab": {
          "base_uri": "https://localhost:8080/",
          "height": 394
        },
        "id": "ToVn3qhOqz8p",
        "outputId": "9570a35d-8467-4efe-c542-f913d9d12153"
      },
      "execution_count": null,
      "outputs": [
        {
          "output_type": "execute_result",
          "data": {
            "text/plain": [
              "<AxesSubplot:title={'center':'Survived by Adults-Childrens'}, xlabel='Adults,Sex', ylabel='Amount'>"
            ]
          },
          "metadata": {},
          "execution_count": 37
        },
        {
          "output_type": "display_data",
          "data": {
            "text/plain": [
              "<Figure size 432x288 with 1 Axes>"
            ],
            "image/png": "[encoded data removed]"
          },
          "metadata": {
            "needs_background": "light"
          }
        }
      ]
    },
    {
      "cell_type": "markdown",
      "source": [
        "**Age Distribution**\n",
        "\n",
        "This is the age distribution on the titanic"
      ],
      "metadata": {
        "id": "C-PCHsucsxBW"
      }
    },
    {
      "cell_type": "code",
      "source": [
        "plt.title(\"Age\")\n",
        "plt.hist(x = titanic[str(\"Age\")], bins = 50, rwidth = 1,color=\"red\")\n",
        "plt.grid(axis='y', alpha = 1)\n",
        "plt.ylabel(\"Cantidad de personas\")\n",
        "plt.xlabel(\"Edad\")"
      ],
      "metadata": {
        "colab": {
          "base_uri": "https://localhost:8080/",
          "height": 313
        },
        "id": "66mLBLw6JIBk",
        "outputId": "900d440c-7494-4cd3-b2a5-677436182f6d"
      },
      "execution_count": null,
      "outputs": [
        {
          "output_type": "execute_result",
          "data": {
            "text/plain": [
              "Text(0.5, 0, 'Edad')"
            ]
          },
          "metadata": {},
          "execution_count": 38
        },
        {
          "output_type": "display_data",
          "data": {
            "text/plain": [
              "<Figure size 432x288 with 1 Axes>"
            ],
            "image/png": "[encoded data removed]"
          },
          "metadata": {
            "needs_background": "light"
          }
        }
      ]
    },
    {
      "cell_type": "markdown",
      "source": [
        "**Mosaic of survivors by Sex**\n",
        "\n",
        "This is a graph showing the amount of people who survived or died by sex\n",
        "\n",
        "The largest number of people who died were men"
      ],
      "metadata": {
        "id": "2GeozYHhuJje"
      }
    },
    {
      "cell_type": "code",
      "source": [
        "titanic[\"Died\"] = titanic[\"Survived\"]\n",
        "titanic[\"Died\"] = titanic[\"Died\"].apply(lambda x: \"Died\" if x == 0 else \"Survived\")\n",
        "from statsmodels.graphics.mosaicplot import mosaic\n",
        "plt.rcParams[\"font.size\"] = 15\n",
        "mosaic(titanic.sort_values(\"Sex\"),[\"Sex\",\"Died\"]);"
      ],
      "metadata": {
        "colab": {
          "base_uri": "https://localhost:8080/",
          "height": 274
        },
        "id": "1MxOEfy2PsSF",
        "outputId": "6a910109-8040-44a4-8310-46ea9574310e"
      },
      "execution_count": null,
      "outputs": [
        {
          "output_type": "display_data",
          "data": {
            "text/plain": [
              "<Figure size 432x288 with 3 Axes>"
            ],
            "image/png": "[encoded data removed]"
          },
          "metadata": {
            "needs_background": "light"
          }
        }
      ]
    },
    {
      "cell_type": "markdown",
      "source": [
        "**Mosaic of survivors by Pclass**\n",
        "\n",
        "This is a graph showing the amount of people who survived or died by Pclass\n",
        "\n",
        "The largest number of people who died were Class 3, and porcentually largest survival people were on first class"
      ],
      "metadata": {
        "id": "J4rJ2F4Auyva"
      }
    },
    {
      "cell_type": "code",
      "source": [
        "plt.rcParams[\"font.size\"] = 15\n",
        "mosaic(titanic.sort_values(\"Pclass\"),[\"Pclass\",\"Died\"]);"
      ],
      "metadata": {
        "colab": {
          "base_uri": "https://localhost:8080/",
          "height": 274
        },
        "id": "1X7-eyt7ZUt0",
        "outputId": "0eb640e4-1fa2-4294-9177-a2884cc37006"
      },
      "execution_count": null,
      "outputs": [
        {
          "output_type": "display_data",
          "data": {
            "text/plain": [
              "<Figure size 432x288 with 3 Axes>"
            ],
            "image/png": "[encoded data removed]"
          },
          "metadata": {
            "needs_background": "light"
          }
        }
      ]
    },
    {
      "cell_type": "markdown",
      "metadata": {
        "id": "4luKKP58V-Qs"
      },
      "source": [
        "**Congratulations!** You have finished the quiz. Good work!\n"
      ]
    },
    {
      "cell_type": "markdown",
      "metadata": {
        "id": "JJbV7A38uZhC"
      },
      "source": [
        "## **Credits**\n",
        "Created by \n",
        "  - German Hernandez\n",
        "  - Oscar Fabian Sierra Daza \n",
        "  \n",
        "Modififying quizzes from\n",
        "  - Felipe Restrepo Calle\n",
        "  - Alberto Nicolai Romero Martínez\n",
        "  - Miguel Angel Ortiz Marín\n"
      ]
    }
  ]
}