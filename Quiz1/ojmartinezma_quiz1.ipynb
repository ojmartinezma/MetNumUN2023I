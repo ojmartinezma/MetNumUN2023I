{
  "nbformat": 4,
  "nbformat_minor": 0,
  "metadata": {
    "colab": {
      "provenance": [],
      "authorship_tag": "ABX9TyMmMO4BEFKLzmSJAYnNhof2"
    },
    "kernelspec": {
      "name": "python3",
      "display_name": "Python 3"
    },
    "language_info": {
      "name": "python"
    }
  },
  "cells": [
    {
      "cell_type": "code",
      "execution_count": 22,
      "metadata": {
        "id": "h3NZqNiiouIc"
      },
      "outputs": [],
      "source": [
        "#Do not change this function's name, parameters or output format. It will be used in automatic grading.\n",
        "def FizzBuzz(x):\n",
        "  if x%3==0 and x%5!=0:\n",
        "    answer =\"Fizz!\"\n",
        "  elif x%5==0 and x%3!=0:\n",
        "    answer =\"Buzz!\"\n",
        "  elif x%5==0 and x%3==0:\n",
        "    answer =\"FizzBuzz!\"\n",
        "  else:\n",
        "    answer =\"...\"\n",
        "  return answer"
      ]
    },
    {
      "cell_type": "code",
      "source": [
        "def FizzBuzzList(x):\n",
        "  ans_list=[]\n",
        "  for i in range(x):\n",
        "    ans_list.append(FizzBuzz(i+1))\n",
        "  return ans_list"
      ],
      "metadata": {
        "id": "dyd85F4Jp44o"
      },
      "execution_count": 39,
      "outputs": []
    },
    {
      "cell_type": "code",
      "source": [
        "import numpy as np\n",
        "\n",
        "def standarize(X):\n",
        "  X_standarized = (X-X.mean())/X.std()\n",
        "  return X_standarized"
      ],
      "metadata": {
        "id": "Vx9SLLc4r8yr"
      },
      "execution_count": 73,
      "outputs": []
    },
    {
      "cell_type": "code",
      "source": [
        "X0 = np.array([4.8, 4.0, 4.2, 4.0, 5.0])\n",
        "standarize(X0)"
      ],
      "metadata": {
        "colab": {
          "base_uri": "https://localhost:8080/"
        },
        "id": "zHg6QPTZyvS5",
        "outputId": "99eba9c2-7f50-40bf-9ce5-ea21fbb16339"
      },
      "execution_count": 74,
      "outputs": [
        {
          "output_type": "execute_result",
          "data": {
            "text/plain": [
              "array([ 0.95346259, -0.95346259, -0.47673129, -0.95346259,  1.43019388])"
            ]
          },
          "metadata": {},
          "execution_count": 74
        }
      ]
    },
    {
      "cell_type": "code",
      "source": [
        "#Do not change this function's name, parameters or output format. It will be used in automatic grading.\n",
        "\n",
        "import numpy as np\n",
        "\n",
        "def main_diagonal_matrix(A):\n",
        "  D = np.diag(np.diag(A)).astype(float)\n",
        "  return D"
      ],
      "metadata": {
        "id": "96FPqoZ3yHDh"
      },
      "execution_count": 77,
      "outputs": []
    }
  ]
}